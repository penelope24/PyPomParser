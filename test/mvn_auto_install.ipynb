{
 "cells": [
  {
   "cell_type": "code",
   "execution_count": 1,
   "outputs": [],
   "source": [
    "import os\n",
    "from ProjectExplore import ProjectExplore\n",
    "from PomEditor import PomEditor\n",
    "from PomReader import PomReader\n",
    "from Mojo import Mojo\n",
    "\n",
    "path = \"/Users/fy/Downloads/spring-security-oauth\""
   ],
   "metadata": {
    "collapsed": false,
    "pycharm": {
     "name": "#%%\n"
    }
   }
  },
  {
   "cell_type": "code",
   "execution_count": 2,
   "outputs": [
    {
     "data": {
      "text/plain": "'\\n4.0.0\\norg.springframework.security.oauth\\nspring-security-oauth-parent\\nOAuth for Spring Security\\nParent Project for OAuth Support for Spring Security\\npom\\n2.5.3.BUILD-SNAPSHOT\\nhttps://docs.spring.io/spring-security/oauth\\n\\nspring-security-oauth\\nspring-security-oauth2\\ntests\\nsamples\\n\\n\\n\\nUTF-8\\n1.14\\n4.3.30.RELEASE\\n4.2.20.RELEASE\\n1.5.2.RELEASE\\n2.6.3\\n4.12\\n1.10.19\\n1.6\\n\\n\\nhttps://github.com/SpringSource/spring-security-oauth\\nscm:git:git://github.com/SpringSource/spring-security-oauth.git\\nscm:git:ssh://git@github.com/SpringSource/spring-security-oauth.git\\nHEAD\\n\\n\\nJIRA\\nhttps://opensource.atlassian.com/projects/spring/browse/SECOAUTH\\n\\n\\n\\nSpring Security OAuth Forum\\nhttps://forum.springframework.org/forumdisplay.php?f=79\\nhttps://forum.springframework.org/forumdisplay.php?f=79\\n\\n\\n\\nBamboo\\nhttps://build.springframework.org/bamboo/browse/SECOAUTH\\n\\n\\n\\nApache 2.0\\nhttps://www.apache.org/licenses/LICENSE-2.0.txt\\n\\n\\n\\n\\nstoicflame\\nRyan Heaton\\nstoicflame@gmail.com\\n\\n\\ndsyer\\nDave Syer\\ndsyer@vmware.com\\n\\n\\n\\n\\nstaging\\n\\n/${java.io.tmpdir}/spring-security-oauth/dist\\n\\n\\n\\nspring-site-staging\\nfile:///${java.io.tmpdir}/spring-security-oauth/docs/${project.version}\\n\\n\\nspring-milestone-staging\\nfile:///${java.io.tmpdir}/spring-security-oauth/milestone\\n\\n\\nspring-snapshot-staging\\nfile:///${java.io.tmpdir}/spring-security-oauth/snapshot\\n\\n\\n\\n\\nbootstrap\\n\\n\\nrepo.spring.io-milestone\\nSpring Framework Milestone Repository\\nhttps://repo.spring.io/libs-milestone-local\\n\\n\\nrepo.spring.io-release\\nSpring Framework Release Repository\\nhttps://repo.spring.io/libs-release-local\\n\\n\\nrepo.spring.io-snapshot\\nSpring Framework Maven Snapshot Repository\\nhttps://repo.spring.io/libs-snapshot-local\\ntrue\\n\\n\\noauth.googlecode.net\\nhttps://oauth.googlecode.com/svn/code/maven/\\n\\n\\n\\n\\nmilestone\\n\\n\\nrepo.spring.io\\nSpring Milestone Repository\\nhttps://repo.spring.io/libs-milestone-local\\n\\n\\n\\n\\nbintray\\n\\n\\nbintray\\nJcenter Repository\\nhttps://api.bintray.com/maven/spring/jars/org.springframework.security.oauth\\n\\n\\n\\n\\ncentral\\n\\n\\nsonatype-nexus-snapshots\\nSonatype Nexus Snapshots\\nhttps://oss.sonatype.org/content/repositories/snapshots/\\n\\n\\nsonatype-nexus-staging\\nNexus Release Repository\\nhttps://oss.sonatype.org/service/local/staging/deploy/maven2/\\n\\n\\n\\n\\n\\nmaven-gpg-plugin\\n\\n\\nsign-artifacts\\nverify\\n\\nsign\\n\\n\\n\\n\\n\\n\\n\\n\\nspring5\\n\\n5.0.16.RELEASE\\n5.0.3.RELEASE\\n2.0.5.RELEASE\\n2.9.0\\n\\n\\n\\nrepo.spring.io-milestone\\nSpring Framework Milestone Repository\\nhttps://repo.spring.io/libs-milestone-local\\n\\n\\nrepo.spring.io-snapshot\\nSpring Framework Maven Snapshot Repository\\nhttps://repo.spring.io/libs-snapshot-local\\ntrue\\n\\n\\n\\n\\n\\norg.apache.maven.plugins\\nmaven-checkstyle-plugin\\n3.1.1\\n\\n\\ncom.puppycrawl.tools\\ncheckstyle\\n8.31\\n\\n\\nio.spring.nohttp\\nnohttp-checkstyle\\n0.0.3.RELEASE\\n\\n\\n\\n${maven.multiModuleProjectDirectory}/etc/nohttp/checkstyle.xml\\nsrc/**/*,*\\n\\n./\\n\\n\\n\\n\\n\\ncheck\\n\\n\\n\\n\\n\\n\\n\\n\\ndefault\\n\\ntrue\\n\\n\\n\\n\\norg.codehaus.mojo\\nanimal-sniffer-maven-plugin\\n1.6\\n\\n\\norg.codehaus.mojo.signature\\njava16\\n1.0\\n\\n\\n\\n\\nenforce-java-6\\ntest\\n\\ncheck\\n\\n\\n\\n\\nsun.net.www.protocol.http.*\\nsun.net.www.protocol.https.*\\n\\n\\n\\n\\n\\n\\n\\n\\n\\ntests-exclude-redis\\n\\n\\n\\norg.apache.maven.plugins\\nmaven-surefire-plugin\\n\\n${skipTests}\\n\\n**/*Tests.java\\n\\n\\n**/RedisTokenStorePrefixTests.java\\n**/RedisTokenStoreTests.java\\n\\n\\n\\n\\n\\n\\n\\n\\n\\n\\norg.springframework\\nspring-beans\\n${spring.version}\\n\\n\\norg.springframework\\nspring-core\\n${spring.version}\\n\\n\\norg.springframework\\nspring-context\\n${spring.version}\\n\\n\\norg.springframework\\nspring-expression\\n${spring.version}\\n\\n\\norg.springframework\\nspring-aop\\n${spring.version}\\n\\n\\norg.springframework\\nspring-jdbc\\n${spring.version}\\ntrue\\n\\n\\norg.springframework\\nspring-tx\\n${spring.version}\\n\\n\\norg.springframework\\nspring-web\\n${spring.version}\\n\\n\\norg.springframework\\nspring-webmvc\\n${spring.version}\\n\\n\\norg.springframework\\nspring-test\\n${spring.version}\\ntest\\n\\n\\norg.springframework.security\\nspring-security-core\\n${spring.security.version}\\n\\n\\norg.springframework.security\\nspring-security-config\\n${spring.security.version}\\n\\n\\norg.springframework.security\\nspring-security-jwt\\n${spring.security.jwt.version}\\ntrue\\n\\n\\norg.springframework.security\\nspring-security-web\\n${spring.security.version}\\n\\n\\norg.springframework\\nspring-tx\\n\\n\\n\\n\\norg.springframework.security\\nspring-security-taglibs\\n${spring.security.version}\\n\\n\\ncommons-codec\\ncommons-codec\\n${commons-codec.version}\\n\\n\\n\\n\\n\\n\\norg.apache.maven.plugins\\nmaven-compiler-plugin\\n2.3.2\\n\\n${java.version}\\n${java.version}\\n\\n\\n\\norg.apache.maven.plugins\\nmaven-source-plugin\\n2.1.2\\n\\n\\nattach-sources\\npackage\\n\\njar\\n\\n\\n\\n\\n\\nmaven-javadoc-plugin\\n2.9.1\\n\\ntrue\\n\\n\\n\\njavadoc\\npackage\\n\\njar\\n\\n\\n\\n\\n\\n\\norg.apache.maven.plugins\\nmaven-eclipse-plugin\\n2.10\\n\\n\\norg.springframework.ide.eclipse.core.springnature\\n\\n\\norg.springframework.ide.eclipse.core.springbuilder\\n\\n\\n\\n\\n\\n\\n\\norg.apache.tomcat.maven\\ntomcat7-maven-plugin\\n2.2\\n\\n\\norg.apache.maven.plugins\\nmaven-release-plugin\\n2.5\\n\\n\\norg.apache.maven.plugins\\nmaven-site-plugin\\n3.3\\n\\n\\norg.apache.maven.wagon\\nwagon-ssh\\n1.0\\n\\n\\n\\n\\norg.apache.maven.plugins\\nmaven-surefire-plugin\\n2.20\\n\\n${skipTests}\\n\\n**/*Tests.java\\n\\n3\\ntrue\\n-Xmx1024m -XX:MaxPermSize=256m\\n\\n\\n\\n\\n\\n\\norg.springframework.build\\naws-maven\\n5.0.0.RELEASE\\n\\n\\n\\n\\ntrue\\n\\n\\norg.apache.maven.plugins\\nmaven-project-info-reports-plugin\\n2.4\\n\\n\\norg.apache.maven.plugins\\nmaven-surefire-report-plugin\\n2.3\\n\\n\\norg.codehaus.mojo\\njdepend-maven-plugin\\n\\n\\nmaven-javadoc-plugin\\n\\n\\nhtml\\n\\njavadoc\\n\\n\\n\\n\\ntrue\\ntrue\\n\\nhttps://java.sun.com/j2ee/1.4/docs/api\\nhttps://java.sun.com/j2se/1.5.0/docs/api\\nhttps://jakarta.apache.org/commons/collections/apidocs-COLLECTIONS_3_0/\\nhttps://jakarta.apache.org/commons/dbcp/apidocs/\\nhttps://jakarta.apache.org/commons/fileupload/apidocs/\\nhttps://jakarta.apache.org/commons/httpclient/apidocs/\\nhttps://jakarta.apache.org/commons/pool/apidocs/\\nhttps://jakarta.apache.org/commons/logging/apidocs/\\nhttp://junit.sourceforge.net/javadoc/\\nhttps://logging.apache.org/log4j/docs/api/\\nhttps://jakarta.apache.org/regexp/apidocs/\\nhttps://jakarta.apache.org/velocity/api/\\nhttps://docs.spring.io/spring/docs/2.5.x/api/\\n\\nexample\\n\\n\\n\\norg.apache.maven.plugins\\nmaven-jxr-plugin\\n2.4\\n\\n\\n\\n\\n\\nstatic.spring.io\\nscp://docs-ip.spring.io/var/www/domains/spring.io/docs/htdocs/spring-security/oauth/site/docs/${project.version}\\n\\n\\nrepo.spring.io\\nSpring Release Repository\\nhttps://repo.spring.io/libs-release-local\\n\\n\\nrepo.spring.io\\nSpring Snapshot Repository\\nhttps://repo.spring.io/libs-snapshot-local\\n\\n\\n'"
     },
     "execution_count": 2,
     "metadata": {},
     "output_type": "execute_result"
    }
   ],
   "source": [
    "editor = PomEditor(path + \"/pom.xml\")\n",
    "editor.bs_data.getText()"
   ],
   "metadata": {
    "collapsed": false,
    "pycharm": {
     "name": "#%%\n"
    }
   }
  },
  {
   "cell_type": "code",
   "execution_count": 3,
   "outputs": [],
   "source": [
    "editor.write_to_disk()"
   ],
   "metadata": {
    "collapsed": false,
    "pycharm": {
     "name": "#%%\n"
    }
   }
  },
  {
   "cell_type": "code",
   "execution_count": null,
   "outputs": [],
   "source": [],
   "metadata": {
    "collapsed": false,
    "pycharm": {
     "name": "#%%\n"
    }
   }
  }
 ],
 "metadata": {
  "kernelspec": {
   "display_name": "Python 3",
   "language": "python",
   "name": "python3"
  },
  "language_info": {
   "codemirror_mode": {
    "name": "ipython",
    "version": 2
   },
   "file_extension": ".py",
   "mimetype": "text/x-python",
   "name": "python",
   "nbconvert_exporter": "python",
   "pygments_lexer": "ipython2",
   "version": "2.7.6"
  }
 },
 "nbformat": 4,
 "nbformat_minor": 0
}